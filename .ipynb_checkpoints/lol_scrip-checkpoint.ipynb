{
 "cells": [
  {
   "cell_type": "markdown",
   "id": "67d20aa7-8622-4e4c-a2a2-6245c510f28f",
   "metadata": {},
   "source": [
    "<h1 style=\"font-size:100px; color:green; background-color: black\">Proyecto de ciencia de datos</h1>"
   ]
  },
  {
   "cell_type": "markdown",
   "id": "2f71fb8b-1711-4172-9cbb-5763669c224f",
   "metadata": {
    "tags": []
   },
   "source": [
    "# Table of Contents\n",
    "\n",
    "* [__Proyecto final 0__](#chapter1)\n",
    "    * [__Presentacion 0.1__](#section_0_1)\n",
    "    * [__Introduccion 0.2__](#section_0_2)\n",
    "* [__Objetivo 1__](#section_1)\n",
    "* [__Contexto analitico 2__](#section_2)\n",
    "* [__Data Acquisition 3__](#section_3)\n",
    "* [__Exploratory Data Analysis 4__](#section_4)\n",
    "* [__Data Wrangling 5__](#section_5)\n",
    "* [__Feature selection 6__](#section_6) \n",
    "* [__Machine Learning 7__](#section_7)\n",
    "* [__Conlusion 8__](#section_8)\n",
    "* [__Futuras lineas 9__](#section_9)\n",
    "\n",
    "---"
   ]
  },
  {
   "cell_type": "markdown",
   "id": "d9f2a708-a1e4-44c4-98f7-52a62f0bdd00",
   "metadata": {},
   "source": [
    "# Proyecto final 0."
   ]
  },
  {
   "cell_type": "code",
   "execution_count": null,
   "id": "e35885bb-8c02-4798-8e53-26d78150739a",
   "metadata": {},
   "outputs": [],
   "source": []
  },
  {
   "cell_type": "code",
   "execution_count": null,
   "id": "a864f49c-11b1-4094-8717-c8eeb6e0dfd9",
   "metadata": {},
   "outputs": [],
   "source": []
  },
  {
   "cell_type": "markdown",
   "id": "116c7260-6cbe-4ed9-8594-cb40050fcbb6",
   "metadata": {},
   "source": [
    "## Presentacion 0.1"
   ]
  },
  {
   "cell_type": "code",
   "execution_count": null,
   "id": "dea59c83-50ea-4e5b-92cd-807f52f8d764",
   "metadata": {},
   "outputs": [],
   "source": []
  },
  {
   "cell_type": "code",
   "execution_count": null,
   "id": "cff52c6c-6c26-4ad9-b169-e37129e50c00",
   "metadata": {},
   "outputs": [],
   "source": []
  },
  {
   "cell_type": "markdown",
   "id": "3ccb7bfd-782e-4069-b0c0-bf62696b7e27",
   "metadata": {},
   "source": [
    "## Introduccion 0.2"
   ]
  },
  {
   "cell_type": "code",
   "execution_count": null,
   "id": "370011c9-a703-4de9-9e20-d3b19d7232b2",
   "metadata": {},
   "outputs": [],
   "source": []
  },
  {
   "cell_type": "code",
   "execution_count": null,
   "id": "62f37576-e47c-4372-a455-310c64c1eae6",
   "metadata": {},
   "outputs": [],
   "source": []
  },
  {
   "cell_type": "markdown",
   "id": "88c01d2e-8efe-46b5-b5b1-8cae85d6d652",
   "metadata": {},
   "source": [
    "# Objetivo 1."
   ]
  },
  {
   "cell_type": "code",
   "execution_count": null,
   "id": "6c0e368a-efd2-45ce-8314-f711e0ae61e2",
   "metadata": {},
   "outputs": [],
   "source": []
  },
  {
   "cell_type": "code",
   "execution_count": null,
   "id": "cb3463e9-33e4-42df-90b9-8403b5abd53f",
   "metadata": {},
   "outputs": [],
   "source": []
  },
  {
   "cell_type": "markdown",
   "id": "d8bc0b6d-0c34-4529-adf3-497b3a3f9a18",
   "metadata": {},
   "source": [
    "# Contexto analitico 2."
   ]
  },
  {
   "cell_type": "code",
   "execution_count": null,
   "id": "93684550-ee79-4f38-b0c6-18b8dd465bec",
   "metadata": {},
   "outputs": [],
   "source": []
  },
  {
   "cell_type": "code",
   "execution_count": null,
   "id": "c6f3607c-bc4b-49d1-80a3-8e186bd6da08",
   "metadata": {},
   "outputs": [],
   "source": []
  },
  {
   "cell_type": "markdown",
   "id": "f1c03de7-7f2a-420a-a317-a8d8062463b4",
   "metadata": {},
   "source": [
    "# Data acquisition 3."
   ]
  },
  {
   "cell_type": "code",
   "execution_count": null,
   "id": "b1dc1066-13df-4170-8695-a2f565794177",
   "metadata": {},
   "outputs": [],
   "source": []
  },
  {
   "cell_type": "code",
   "execution_count": null,
   "id": "97895ad2-cf37-41e3-987f-e884db5ed51a",
   "metadata": {},
   "outputs": [],
   "source": []
  },
  {
   "cell_type": "markdown",
   "id": "b48f77ba-4fb0-4ad0-9469-513375519b75",
   "metadata": {},
   "source": [
    "# Exploratory data analysis 4."
   ]
  },
  {
   "cell_type": "code",
   "execution_count": null,
   "id": "da7cde5d-ab06-4f5b-ba1b-30abd66dc486",
   "metadata": {},
   "outputs": [],
   "source": []
  },
  {
   "cell_type": "code",
   "execution_count": null,
   "id": "c7ded330-b546-403b-9f96-3fff806eb32b",
   "metadata": {},
   "outputs": [],
   "source": []
  },
  {
   "cell_type": "markdown",
   "id": "f88532f5-a728-4046-9011-a02e98ae8616",
   "metadata": {},
   "source": [
    "# Data wrangling 5."
   ]
  },
  {
   "cell_type": "code",
   "execution_count": null,
   "id": "189feca0-8e8b-4d99-ab54-dc1d14ab9a11",
   "metadata": {},
   "outputs": [],
   "source": []
  },
  {
   "cell_type": "code",
   "execution_count": null,
   "id": "76900d96-a119-47df-926a-fdf9a73cfcf8",
   "metadata": {},
   "outputs": [],
   "source": []
  },
  {
   "cell_type": "markdown",
   "id": "a807c05e-16ab-43e5-922f-4db79b4c9d2d",
   "metadata": {},
   "source": [
    "# Feature selection  6."
   ]
  },
  {
   "cell_type": "code",
   "execution_count": null,
   "id": "427aa57e-9e94-41f1-ab5c-22de8a026882",
   "metadata": {},
   "outputs": [],
   "source": []
  },
  {
   "cell_type": "code",
   "execution_count": null,
   "id": "c06ce538-bcde-4b6f-9ecc-4810168ec3b3",
   "metadata": {},
   "outputs": [],
   "source": []
  },
  {
   "cell_type": "markdown",
   "id": "12065ade-f92c-4784-ac0e-82b71b7051d7",
   "metadata": {},
   "source": [
    "# Machine learning 7."
   ]
  },
  {
   "cell_type": "code",
   "execution_count": null,
   "id": "65386403-5fd3-4421-addb-28e7759a7c0c",
   "metadata": {},
   "outputs": [],
   "source": []
  },
  {
   "cell_type": "code",
   "execution_count": null,
   "id": "2c93241d-27f8-4e6f-b52d-632f467c0b25",
   "metadata": {},
   "outputs": [],
   "source": []
  },
  {
   "cell_type": "markdown",
   "id": "671ae784-701a-48ea-b469-3828a3b84ebe",
   "metadata": {},
   "source": [
    "# Conclsuiones 8."
   ]
  },
  {
   "cell_type": "code",
   "execution_count": null,
   "id": "f10af84a-05c9-4a09-931f-f8facded6471",
   "metadata": {},
   "outputs": [],
   "source": []
  },
  {
   "cell_type": "code",
   "execution_count": null,
   "id": "a6fc3965-bf51-460c-9382-89cedc0d5fef",
   "metadata": {},
   "outputs": [],
   "source": []
  },
  {
   "cell_type": "markdown",
   "id": "bf9e77e2-5385-478d-8d2d-d7163e5c6eee",
   "metadata": {},
   "source": [
    "# Futuras lineas 9."
   ]
  },
  {
   "cell_type": "code",
   "execution_count": null,
   "id": "b9ae616b-edf2-474c-8956-80d8665d0b51",
   "metadata": {},
   "outputs": [],
   "source": []
  },
  {
   "cell_type": "code",
   "execution_count": null,
   "id": "b8d6fdb6-1197-4e0f-af6f-e08401610b96",
   "metadata": {},
   "outputs": [],
   "source": []
  }
 ],
 "metadata": {
  "kernelspec": {
   "display_name": "Python 3 (ipykernel)",
   "language": "python",
   "name": "python3"
  },
  "language_info": {
   "codemirror_mode": {
    "name": "ipython",
    "version": 3
   },
   "file_extension": ".py",
   "mimetype": "text/x-python",
   "name": "python",
   "nbconvert_exporter": "python",
   "pygments_lexer": "ipython3",
   "version": "3.9.12"
  }
 },
 "nbformat": 4,
 "nbformat_minor": 5
}
